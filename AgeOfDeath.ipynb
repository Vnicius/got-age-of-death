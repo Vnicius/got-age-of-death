{
 "cells": [
  {
   "cell_type": "code",
   "execution_count": 2,
   "metadata": {},
   "outputs": [],
   "source": [
    "import os\n",
    "import pandas as pd\n",
    "import requests as req\n",
    "import json\n",
    "import numpy as np\n",
    "import re\n",
    "from unidecode import unidecode\n",
    "\n",
    "MAX_NAME_SIZE = 50"
   ]
  },
  {
   "cell_type": "code",
   "execution_count": 3,
   "metadata": {},
   "outputs": [],
   "source": [
    "DATA_URL = 'https://api.got.show/api/characters/'\n",
    "\n",
    "data = req.get(DATA_URL).content"
   ]
  },
  {
   "cell_type": "code",
   "execution_count": 4,
   "metadata": {},
   "outputs": [
    {
     "data": {
      "text/plain": [
       "2028"
      ]
     },
     "execution_count": 4,
     "metadata": {},
     "output_type": "execute_result"
    }
   ],
   "source": [
    "df = pd.read_json(data, orient='records')\n",
    "len(df)"
   ]
  },
  {
   "cell_type": "code",
   "execution_count": 5,
   "metadata": {},
   "outputs": [],
   "source": [
    "df = df[['name', 'dateOfBirth', 'dateOfDeath']]"
   ]
  },
  {
   "cell_type": "code",
   "execution_count": 6,
   "metadata": {},
   "outputs": [
    {
     "data": {
      "text/plain": [
       "478"
      ]
     },
     "execution_count": 6,
     "metadata": {},
     "output_type": "execute_result"
    }
   ],
   "source": [
    "df_only_born = df.dropna(subset=['dateOfBirth'])\n",
    "len(df_only_born)"
   ]
  },
  {
   "cell_type": "code",
   "execution_count": 7,
   "metadata": {},
   "outputs": [],
   "source": [
    "def build_dict(names):\n",
    "    out_dict = set()\n",
    "    \n",
    "    for name in names:\n",
    "        for letter in name:\n",
    "            out_dict.add(letter)\n",
    "    \n",
    "    return sorted(list(out_dict))\n",
    "\n",
    "def preprocess_name(name):\n",
    "    out_name = unidecode(name.lower())\n",
    "    out_name = re.sub(r'\\W', '', out_name)\n",
    "    \n",
    "    if len(out_name) > MAX_NAME_SIZE:\n",
    "        out_name = out_name[:MAX_NAME_SIZE]\n",
    "    \n",
    "    return out_name\n",
    "\n",
    "def preprocess_age(birth, death):\n",
    "    if np.isnan(death):\n",
    "        return -1\n",
    "    else:\n",
    "        return int(death - birth)\n",
    "\n",
    "def names_to_letters_list(names):\n",
    "    letters_list = []\n",
    "    \n",
    "    for name in names:\n",
    "        letters_list.append(list(name))\n",
    "    \n",
    "    return letters_list"
   ]
  },
  {
   "cell_type": "code",
   "execution_count": 8,
   "metadata": {},
   "outputs": [],
   "source": [
    "df_names = df_only_born['name'].apply(preprocess_name)"
   ]
  },
  {
   "cell_type": "code",
   "execution_count": 9,
   "metadata": {},
   "outputs": [],
   "source": [
    "LETTERS_DICT = build_dict(list(df_names))"
   ]
  },
  {
   "cell_type": "code",
   "execution_count": 10,
   "metadata": {},
   "outputs": [],
   "source": [
    "list_ages = []\n",
    "\n",
    "for birth, death in zip(list(df_only_born['dateOfBirth']), list(df_only_born['dateOfDeath'])):\n",
    "    list_ages.append(preprocess_age(birth, death))"
   ]
  },
  {
   "cell_type": "code",
   "execution_count": 11,
   "metadata": {},
   "outputs": [],
   "source": [
    "def onehot_encoder(name):\n",
    "    name_encoded = np.zeros((MAX_NAME_SIZE, len(LETTERS_DICT)), dtype='int')\n",
    "    for index, character in enumerate(list(name)):\n",
    "        char_index = LETTERS_DICT.index(character)\n",
    "        name_encoded[index, char_index] = 1\n",
    "    \n",
    "    return name_encoded"
   ]
  },
  {
   "cell_type": "code",
   "execution_count": 12,
   "metadata": {},
   "outputs": [
    {
     "data": {
      "text/plain": [
       "(478, 50, 26)"
      ]
     },
     "execution_count": 12,
     "metadata": {},
     "output_type": "execute_result"
    }
   ],
   "source": [
    "onehot_names = []\n",
    "\n",
    "for index, name in enumerate(list(df_names)):\n",
    "    onehot_names.append(onehot_encoder(name))\n",
    "\n",
    "onehot_names = np.array(onehot_names)\n",
    "onehot_names.shape"
   ]
  },
  {
   "cell_type": "code",
   "execution_count": 70,
   "metadata": {},
   "outputs": [],
   "source": [
    "def encode_vect(name):\n",
    "    name_encoded = np.zeros((MAX_NAME_SIZE), dtype='int')\n",
    "    for index, character in enumerate(list(name)):\n",
    "        char_index = LETTERS_DICT.index(character)\n",
    "        name_encoded[index] = char_index\n",
    "    \n",
    "    return name_encoded"
   ]
  },
  {
   "cell_type": "code",
   "execution_count": 71,
   "metadata": {},
   "outputs": [
    {
     "data": {
      "text/plain": [
       "(478, 50)"
      ]
     },
     "execution_count": 71,
     "metadata": {},
     "output_type": "execute_result"
    }
   ],
   "source": [
    "encoded_names = []\n",
    "\n",
    "for index, name in enumerate(list(df_names)):\n",
    "    encoded_names.append(encode_vect(name))\n",
    "\n",
    "encoded_names = np.array(encoded_names)\n",
    "encoded_names.shape"
   ]
  },
  {
   "cell_type": "code",
   "execution_count": 13,
   "metadata": {},
   "outputs": [],
   "source": [
    "from sklearn.preprocessing import MinMaxScaler\n",
    "mm_scaler = MinMaxScaler()\n",
    "scaler = mm_scaler.fit([[age] for age in list_ages])"
   ]
  },
  {
   "cell_type": "code",
   "execution_count": 28,
   "metadata": {},
   "outputs": [
    {
     "data": {
      "text/plain": [
       "(478, 1)"
      ]
     },
     "execution_count": 28,
     "metadata": {},
     "output_type": "execute_result"
    }
   ],
   "source": [
    "ages_scaled = scaler.transform([[age] for age in list_ages])\n",
    "ages_scaled = np.array(ages_scaled)\n",
    "ages_scaled.shape"
   ]
  },
  {
   "cell_type": "markdown",
   "metadata": {},
   "source": [
    "# Machine Learning"
   ]
  },
  {
   "cell_type": "code",
   "execution_count": 107,
   "metadata": {},
   "outputs": [
    {
     "name": "stdout",
     "output_type": "stream",
     "text": [
      "_________________________________________________________________\n",
      "Layer (type)                 Output Shape              Param #   \n",
      "=================================================================\n",
      "embedding_16 (Embedding)     (None, 50, 30)            780       \n",
      "_________________________________________________________________\n",
      "flatten_16 (Flatten)         (None, 1500)              0         \n",
      "_________________________________________________________________\n",
      "dense_38 (Dense)             (None, 20)                30020     \n",
      "_________________________________________________________________\n",
      "dense_39 (Dense)             (None, 10)                210       \n",
      "_________________________________________________________________\n",
      "dense_40 (Dense)             (None, 1)                 11        \n",
      "=================================================================\n",
      "Total params: 31,021\n",
      "Trainable params: 31,021\n",
      "Non-trainable params: 0\n",
      "_________________________________________________________________\n"
     ]
    }
   ],
   "source": [
    "from keras.models import Sequential\n",
    "from keras.layers import Dense, Dropout, Embedding, Flatten\n",
    "from keras.preprocessing.text import one_hot\n",
    "from keras.preprocessing.sequence import pad_sequences\n",
    "\n",
    "model = Sequential()\n",
    "model.add(Embedding(len(LETTERS_DICT), 30, input_length=MAX_NAME_SIZE))\n",
    "model.add(Flatten())\n",
    "model.add(Dense(units=20, activation='sigmoid'))\n",
    "model.add(Dense(units=10, activation='sigmoid'))\n",
    "model.add(Dense(units=1, activation='sigmoid'))\n",
    "\n",
    "model.summary()"
   ]
  },
  {
   "cell_type": "code",
   "execution_count": 110,
   "metadata": {},
   "outputs": [
    {
     "name": "stdout",
     "output_type": "stream",
     "text": [
      "Epoch 1/100\n",
      "478/478 [==============================] - 0s 745us/step - loss: 0.2942 - acc: 0.6569\n",
      "Epoch 2/100\n",
      "478/478 [==============================] - 0s 88us/step - loss: 0.2913 - acc: 0.6569\n",
      "Epoch 3/100\n",
      "478/478 [==============================] - 0s 89us/step - loss: 0.2896 - acc: 0.6569\n",
      "Epoch 4/100\n",
      "478/478 [==============================] - 0s 88us/step - loss: 0.2884 - acc: 0.6569\n",
      "Epoch 5/100\n",
      "478/478 [==============================] - 0s 85us/step - loss: 0.2873 - acc: 0.6569\n",
      "Epoch 6/100\n",
      "478/478 [==============================] - 0s 78us/step - loss: 0.2860 - acc: 0.6569\n",
      "Epoch 7/100\n",
      "478/478 [==============================] - 0s 84us/step - loss: 0.2854 - acc: 0.6569\n",
      "Epoch 8/100\n",
      "478/478 [==============================] - 0s 85us/step - loss: 0.2842 - acc: 0.6569\n",
      "Epoch 9/100\n",
      "478/478 [==============================] - 0s 88us/step - loss: 0.2826 - acc: 0.6569\n",
      "Epoch 10/100\n",
      "478/478 [==============================] - 0s 91us/step - loss: 0.2814 - acc: 0.6569\n",
      "Epoch 11/100\n",
      "478/478 [==============================] - 0s 90us/step - loss: 0.2802 - acc: 0.6569\n",
      "Epoch 12/100\n",
      "478/478 [==============================] - 0s 89us/step - loss: 0.2794 - acc: 0.6569\n",
      "Epoch 13/100\n",
      "478/478 [==============================] - 0s 83us/step - loss: 0.2791 - acc: 0.6569\n",
      "Epoch 14/100\n",
      "478/478 [==============================] - 0s 78us/step - loss: 0.2771 - acc: 0.6569\n",
      "Epoch 15/100\n",
      "478/478 [==============================] - 0s 86us/step - loss: 0.2768 - acc: 0.6569\n",
      "Epoch 16/100\n",
      "478/478 [==============================] - 0s 86us/step - loss: 0.2754 - acc: 0.6569\n",
      "Epoch 17/100\n",
      "478/478 [==============================] - 0s 89us/step - loss: 0.2745 - acc: 0.6569\n",
      "Epoch 18/100\n",
      "478/478 [==============================] - 0s 78us/step - loss: 0.2747 - acc: 0.6569\n",
      "Epoch 19/100\n",
      "478/478 [==============================] - 0s 85us/step - loss: 0.2726 - acc: 0.6569\n",
      "Epoch 20/100\n",
      "478/478 [==============================] - 0s 85us/step - loss: 0.2711 - acc: 0.6569\n",
      "Epoch 21/100\n",
      "478/478 [==============================] - 0s 83us/step - loss: 0.2708 - acc: 0.6569\n",
      "Epoch 22/100\n",
      "478/478 [==============================] - 0s 79us/step - loss: 0.2693 - acc: 0.6569\n",
      "Epoch 23/100\n",
      "478/478 [==============================] - 0s 109us/step - loss: 0.2691 - acc: 0.6569\n",
      "Epoch 24/100\n",
      "478/478 [==============================] - 0s 83us/step - loss: 0.2679 - acc: 0.6569\n",
      "Epoch 25/100\n",
      "478/478 [==============================] - 0s 88us/step - loss: 0.2671 - acc: 0.6569\n",
      "Epoch 26/100\n",
      "478/478 [==============================] - 0s 89us/step - loss: 0.2664 - acc: 0.6569\n",
      "Epoch 27/100\n",
      "478/478 [==============================] - 0s 82us/step - loss: 0.2657 - acc: 0.6569\n",
      "Epoch 28/100\n",
      "478/478 [==============================] - 0s 86us/step - loss: 0.2642 - acc: 0.6569\n",
      "Epoch 29/100\n",
      "478/478 [==============================] - 0s 109us/step - loss: 0.2644 - acc: 0.6569\n",
      "Epoch 30/100\n",
      "478/478 [==============================] - 0s 113us/step - loss: 0.2633 - acc: 0.6569\n",
      "Epoch 31/100\n",
      "478/478 [==============================] - 0s 107us/step - loss: 0.2621 - acc: 0.6569\n",
      "Epoch 32/100\n",
      "478/478 [==============================] - 0s 156us/step - loss: 0.2613 - acc: 0.6569\n",
      "Epoch 33/100\n",
      "478/478 [==============================] - 0s 107us/step - loss: 0.2602 - acc: 0.6569\n",
      "Epoch 34/100\n",
      "478/478 [==============================] - 0s 98us/step - loss: 0.2596 - acc: 0.6569\n",
      "Epoch 35/100\n",
      "478/478 [==============================] - 0s 94us/step - loss: 0.2589 - acc: 0.6569\n",
      "Epoch 36/100\n",
      "478/478 [==============================] - 0s 96us/step - loss: 0.2582 - acc: 0.6569\n",
      "Epoch 37/100\n",
      "478/478 [==============================] - 0s 95us/step - loss: 0.2572 - acc: 0.6569\n",
      "Epoch 38/100\n",
      "478/478 [==============================] - 0s 116us/step - loss: 0.2572 - acc: 0.6590\n",
      "Epoch 39/100\n",
      "478/478 [==============================] - 0s 110us/step - loss: 0.2569 - acc: 0.6590\n",
      "Epoch 40/100\n",
      "478/478 [==============================] - 0s 103us/step - loss: 0.2560 - acc: 0.6569\n",
      "Epoch 41/100\n",
      "478/478 [==============================] - 0s 91us/step - loss: 0.2560 - acc: 0.6569\n",
      "Epoch 42/100\n",
      "478/478 [==============================] - 0s 94us/step - loss: 0.2552 - acc: 0.6590\n",
      "Epoch 43/100\n",
      "478/478 [==============================] - 0s 80us/step - loss: 0.2540 - acc: 0.6590\n",
      "Epoch 44/100\n",
      "478/478 [==============================] - 0s 104us/step - loss: 0.2530 - acc: 0.6590\n",
      "Epoch 45/100\n",
      "478/478 [==============================] - 0s 121us/step - loss: 0.2527 - acc: 0.6590\n",
      "Epoch 46/100\n",
      "478/478 [==============================] - 0s 107us/step - loss: 0.2516 - acc: 0.6590\n",
      "Epoch 47/100\n",
      "478/478 [==============================] - 0s 105us/step - loss: 0.2514 - acc: 0.6590\n",
      "Epoch 48/100\n",
      "478/478 [==============================] - 0s 105us/step - loss: 0.2505 - acc: 0.6590\n",
      "Epoch 49/100\n",
      "478/478 [==============================] - 0s 91us/step - loss: 0.2501 - acc: 0.6590\n",
      "Epoch 50/100\n",
      "478/478 [==============================] - 0s 92us/step - loss: 0.2507 - acc: 0.6590\n",
      "Epoch 51/100\n",
      "478/478 [==============================] - 0s 101us/step - loss: 0.2499 - acc: 0.6590\n",
      "Epoch 52/100\n",
      "478/478 [==============================] - 0s 97us/step - loss: 0.2489 - acc: 0.6590\n",
      "Epoch 53/100\n",
      "478/478 [==============================] - 0s 84us/step - loss: 0.2491 - acc: 0.6590\n",
      "Epoch 54/100\n",
      "478/478 [==============================] - 0s 122us/step - loss: 0.2489 - acc: 0.6590\n",
      "Epoch 55/100\n",
      "478/478 [==============================] - 0s 88us/step - loss: 0.2475 - acc: 0.6590\n",
      "Epoch 56/100\n",
      "478/478 [==============================] - 0s 84us/step - loss: 0.2469 - acc: 0.6590\n",
      "Epoch 57/100\n",
      "478/478 [==============================] - 0s 89us/step - loss: 0.2470 - acc: 0.6590\n",
      "Epoch 58/100\n",
      "478/478 [==============================] - 0s 104us/step - loss: 0.2463 - acc: 0.6590\n",
      "Epoch 59/100\n",
      "478/478 [==============================] - 0s 103us/step - loss: 0.2452 - acc: 0.6590\n",
      "Epoch 60/100\n",
      "478/478 [==============================] - 0s 109us/step - loss: 0.2450 - acc: 0.6590\n",
      "Epoch 61/100\n",
      "478/478 [==============================] - 0s 107us/step - loss: 0.2444 - acc: 0.6590\n",
      "Epoch 62/100\n",
      "478/478 [==============================] - 0s 79us/step - loss: 0.2448 - acc: 0.6590\n",
      "Epoch 63/100\n",
      "478/478 [==============================] - 0s 86us/step - loss: 0.2441 - acc: 0.6590\n",
      "Epoch 64/100\n",
      "478/478 [==============================] - 0s 105us/step - loss: 0.2432 - acc: 0.6590\n",
      "Epoch 65/100\n",
      "478/478 [==============================] - 0s 105us/step - loss: 0.2424 - acc: 0.6590\n",
      "Epoch 66/100\n",
      "478/478 [==============================] - 0s 105us/step - loss: 0.2423 - acc: 0.6590\n",
      "Epoch 67/100\n",
      "478/478 [==============================] - 0s 94us/step - loss: 0.2417 - acc: 0.6590\n",
      "Epoch 68/100\n",
      "478/478 [==============================] - 0s 83us/step - loss: 0.2411 - acc: 0.6590\n",
      "Epoch 69/100\n",
      "478/478 [==============================] - 0s 79us/step - loss: 0.2411 - acc: 0.6590\n",
      "Epoch 70/100\n",
      "478/478 [==============================] - 0s 109us/step - loss: 0.2403 - acc: 0.6590\n",
      "Epoch 71/100\n",
      "478/478 [==============================] - 0s 104us/step - loss: 0.2412 - acc: 0.6590\n",
      "Epoch 72/100\n",
      "478/478 [==============================] - 0s 98us/step - loss: 0.2398 - acc: 0.6590\n",
      "Epoch 73/100\n",
      "478/478 [==============================] - 0s 107us/step - loss: 0.2394 - acc: 0.6590\n",
      "Epoch 74/100\n",
      "478/478 [==============================] - 0s 103us/step - loss: 0.2402 - acc: 0.6590\n",
      "Epoch 75/100\n",
      "478/478 [==============================] - 0s 93us/step - loss: 0.2382 - acc: 0.6590\n",
      "Epoch 76/100\n",
      "478/478 [==============================] - 0s 106us/step - loss: 0.2380 - acc: 0.6590\n",
      "Epoch 77/100\n",
      "478/478 [==============================] - 0s 118us/step - loss: 0.2374 - acc: 0.6590\n",
      "Epoch 78/100\n",
      "478/478 [==============================] - 0s 85us/step - loss: 0.2374 - acc: 0.6590\n",
      "Epoch 79/100\n",
      "478/478 [==============================] - 0s 94us/step - loss: 0.2369 - acc: 0.6590\n",
      "Epoch 80/100\n",
      "478/478 [==============================] - 0s 101us/step - loss: 0.2366 - acc: 0.6590\n",
      "Epoch 81/100\n",
      "478/478 [==============================] - 0s 103us/step - loss: 0.2358 - acc: 0.6590\n",
      "Epoch 82/100\n",
      "478/478 [==============================] - 0s 96us/step - loss: 0.2355 - acc: 0.6590\n",
      "Epoch 83/100\n",
      "478/478 [==============================] - 0s 89us/step - loss: 0.2356 - acc: 0.6590\n",
      "Epoch 84/100\n"
     ]
    },
    {
     "name": "stdout",
     "output_type": "stream",
     "text": [
      "478/478 [==============================] - 0s 98us/step - loss: 0.2349 - acc: 0.6590\n",
      "Epoch 85/100\n",
      "478/478 [==============================] - 0s 111us/step - loss: 0.2355 - acc: 0.6590\n",
      "Epoch 86/100\n",
      "478/478 [==============================] - 0s 87us/step - loss: 0.2344 - acc: 0.6590\n",
      "Epoch 87/100\n",
      "478/478 [==============================] - 0s 79us/step - loss: 0.2341 - acc: 0.6590\n",
      "Epoch 88/100\n",
      "478/478 [==============================] - 0s 80us/step - loss: 0.2341 - acc: 0.6590\n",
      "Epoch 89/100\n",
      "478/478 [==============================] - 0s 85us/step - loss: 0.2335 - acc: 0.6590\n",
      "Epoch 90/100\n",
      "478/478 [==============================] - 0s 84us/step - loss: 0.2331 - acc: 0.6590\n",
      "Epoch 91/100\n",
      "478/478 [==============================] - 0s 80us/step - loss: 0.2332 - acc: 0.6590\n",
      "Epoch 92/100\n",
      "478/478 [==============================] - 0s 85us/step - loss: 0.2324 - acc: 0.6590\n",
      "Epoch 93/100\n",
      "478/478 [==============================] - 0s 98us/step - loss: 0.2320 - acc: 0.6590\n",
      "Epoch 94/100\n",
      "478/478 [==============================] - 0s 78us/step - loss: 0.2313 - acc: 0.6590\n",
      "Epoch 95/100\n",
      "478/478 [==============================] - 0s 78us/step - loss: 0.2312 - acc: 0.6590\n",
      "Epoch 96/100\n",
      "478/478 [==============================] - 0s 89us/step - loss: 0.2318 - acc: 0.6590\n",
      "Epoch 97/100\n",
      "478/478 [==============================] - 0s 86us/step - loss: 0.2310 - acc: 0.6590\n",
      "Epoch 98/100\n",
      "478/478 [==============================] - 0s 84us/step - loss: 0.2304 - acc: 0.6590\n",
      "Epoch 99/100\n",
      "478/478 [==============================] - 0s 129us/step - loss: 0.2300 - acc: 0.6590\n",
      "Epoch 100/100\n",
      "478/478 [==============================] - 0s 113us/step - loss: 0.2295 - acc: 0.6590\n"
     ]
    }
   ],
   "source": [
    "model.compile(optimizer=\"adam\", loss='binary_crossentropy',  metrics=['accuracy'])\n",
    "\n",
    "history = model.fit(x=encoded_names, y=ages_scaled, epochs=100, verbose=1, shuffle=True)\n",
    "\n",
    "#score = model.evaluate(x_test, y_test_oh, verbose=0)\n",
    "\n",
    "#print('Test loss:', score[0])\n",
    "#print('Test accuracy:', score[1])"
   ]
  },
  {
   "cell_type": "code",
   "execution_count": 131,
   "metadata": {},
   "outputs": [
    {
     "data": {
      "text/plain": [
       "array([21,  8, 13,  8,  2,  8, 20, 18,  0,  0,  0,  0,  0,  0,  0,  0,  0,\n",
       "        0,  0,  0,  0,  0,  0,  0,  0,  0,  0,  0,  0,  0,  0,  0,  0,  0,\n",
       "        0,  0,  0,  0,  0,  0,  0,  0,  0,  0,  0,  0,  0,  0,  0,  0])"
      ]
     },
     "execution_count": 131,
     "metadata": {},
     "output_type": "execute_result"
    }
   ],
   "source": [
    "my_name = encode_vect(preprocess_name('Vinícius'))\n",
    "my_name"
   ]
  },
  {
   "cell_type": "code",
   "execution_count": 132,
   "metadata": {},
   "outputs": [
    {
     "name": "stdout",
     "output_type": "stream",
     "text": [
      "0.0540818\n"
     ]
    },
    {
     "data": {
      "text/plain": [
       "array([[ 4.57042074]], dtype=float32)"
      ]
     },
     "execution_count": 132,
     "metadata": {},
     "output_type": "execute_result"
    }
   ],
   "source": [
    "res = model.predict(np.array([my_name]))\n",
    "print(res[0][0])\n",
    "scaler.inverse_transform(res[0][0])"
   ]
  }
 ],
 "metadata": {
  "kernelspec": {
   "display_name": "Python 3",
   "language": "python",
   "name": "python3"
  },
  "language_info": {
   "codemirror_mode": {
    "name": "ipython",
    "version": 3
   },
   "file_extension": ".py",
   "mimetype": "text/x-python",
   "name": "python",
   "nbconvert_exporter": "python",
   "pygments_lexer": "ipython3",
   "version": "3.5.2"
  }
 },
 "nbformat": 4,
 "nbformat_minor": 2
}
