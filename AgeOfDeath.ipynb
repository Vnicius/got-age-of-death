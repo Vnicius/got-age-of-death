{
 "cells": [
  {
   "cell_type": "code",
   "execution_count": 1,
   "metadata": {},
   "outputs": [
    {
     "name": "stderr",
     "output_type": "stream",
     "text": [
      "Using TensorFlow backend.\n"
     ]
    }
   ],
   "source": [
    "import os\n",
    "import pandas as pd\n",
    "import requests as req\n",
    "import json\n",
    "import numpy as np\n",
    "import re\n",
    "from unidecode import unidecode\n",
    "from keras.preprocessing.text import one_hot\n",
    "from keras.preprocessing.sequence import pad_sequences\n",
    "from keras.models import load_model\n",
    "from sklearn.preprocessing import MinMaxScaler\n",
    "\n",
    "MAX_NAME_SIZE = 50\n",
    "DICT_SIZE = 26"
   ]
  },
  {
   "cell_type": "markdown",
   "metadata": {},
   "source": [
    "## Getting the data"
   ]
  },
  {
   "cell_type": "markdown",
   "metadata": {},
   "source": [
    "### From the API (sometimes down)"
   ]
  },
  {
   "cell_type": "code",
   "execution_count": 2,
   "metadata": {},
   "outputs": [],
   "source": [
    "DATA_URL = 'https://api.got.show/api/characters/'\n",
    "\n",
    "data = req.get(DATA_URL).content"
   ]
  },
  {
   "cell_type": "markdown",
   "metadata": {},
   "source": [
    "### Reading from the downloaded data"
   ]
  },
  {
   "cell_type": "code",
   "execution_count": 4,
   "metadata": {},
   "outputs": [],
   "source": [
    "# OPTIONAL\n",
    "\n",
    "with open(os.path.join('data', 'characters.json'), 'r') as f:\n",
    "    data = f.read()"
   ]
  },
  {
   "cell_type": "code",
   "execution_count": 5,
   "metadata": {},
   "outputs": [
    {
     "data": {
      "text/plain": [
       "2028"
      ]
     },
     "execution_count": 5,
     "metadata": {},
     "output_type": "execute_result"
    }
   ],
   "source": [
    "df = pd.read_json(data, orient='records')\n",
    "len(df)"
   ]
  },
  {
   "cell_type": "markdown",
   "metadata": {},
   "source": [
    "### Getting only some columns\n",
    "\n",
    "The prediction will be name based, so the name of the character is a important data. To know the age of the character we will get the columns `dateOfBirth` and the `dateOfDeath`, with the years of birth and death, respectively."
   ]
  },
  {
   "cell_type": "code",
   "execution_count": 6,
   "metadata": {},
   "outputs": [],
   "source": [
    "df = df[['name', 'dateOfBirth', 'dateOfDeath']]"
   ]
  },
  {
   "cell_type": "markdown",
   "metadata": {},
   "source": [
    "## Preprocessing the data"
   ]
  },
  {
   "cell_type": "markdown",
   "metadata": {},
   "source": [
    "### Processing the name\n",
    "\n",
    "First tratament that we will do in the name is removing some special words, like words accentuation. For example, `Í` will be replaced by `I`, accentuations are unnecessary informations.\n",
    "\n",
    "The second processing is remove characters that are not words, like symbols and spaces, that also are unnecessary informations.\n",
    "\n",
    "Finally, let the name in lowercase.\n",
    "\n",
    "### Processing the age\n",
    "\n",
    "In the dataset we will have 3 cases of ages: \n",
    "\n",
    "- a) don't has the `dateOfBith`\n",
    "- b) don't has the `dateOfDeath`\n",
    "- c) has both\n",
    "\n",
    "The cases a) are bad there no way how to calculare the age of that character, we will discart them.\n",
    "\n",
    "In the cases b) the characters still alive, so we will define the age as -1, this value will represent that the character is alive (lucky).\n",
    "\n",
    "The best case, or case c), we will calcule the age of this character by the difference between `dateOfBirth` and `dateOfDeath`."
   ]
  },
  {
   "cell_type": "code",
   "execution_count": 7,
   "metadata": {},
   "outputs": [],
   "source": [
    "def preprocess_name(name):\n",
    "    \n",
    "    # decode unicode\n",
    "    out_name = unidecode(name.lower())\n",
    "    \n",
    "    # getting only words\n",
    "    out_name = re.sub(r'\\W', '', out_name)\n",
    "    \n",
    "    # truncate the name\n",
    "    if len(out_name) > MAX_NAME_SIZE:\n",
    "        out_name = out_name[:MAX_NAME_SIZE]\n",
    "    \n",
    "    return out_name\n",
    "\n",
    "def preprocess_age(birth, death):\n",
    "    if np.isnan(death):\n",
    "        # still alive\n",
    "        return -1\n",
    "    else:\n",
    "        # is dead\n",
    "        return int(death - birth)"
   ]
  },
  {
   "cell_type": "code",
   "execution_count": 8,
   "metadata": {},
   "outputs": [
    {
     "data": {
      "text/plain": [
       "478"
      ]
     },
     "execution_count": 8,
     "metadata": {},
     "output_type": "execute_result"
    }
   ],
   "source": [
    "# getting only the chatacters with a date of birth\n",
    "\n",
    "df_only_born = df.dropna(subset=['dateOfBirth'])\n",
    "len(df_only_born)"
   ]
  },
  {
   "cell_type": "code",
   "execution_count": 9,
   "metadata": {},
   "outputs": [],
   "source": [
    "# getting all the names and applying the preprocessing algorithm\n",
    "\n",
    "df_names = df_only_born['name'].apply(preprocess_name)"
   ]
  },
  {
   "cell_type": "code",
   "execution_count": 10,
   "metadata": {},
   "outputs": [],
   "source": [
    "# computing the ages\n",
    "\n",
    "list_ages = []\n",
    "\n",
    "for birth, death in zip(list(df_only_born['dateOfBirth']), list(df_only_born['dateOfDeath'])):\n",
    "    list_ages.append(preprocess_age(birth, death))"
   ]
  },
  {
   "cell_type": "markdown",
   "metadata": {},
   "source": [
    "## Encoding\n",
    "\n",
    "In the step we will prepare the data as the input of our neural model.\n",
    "\n",
    "### Encoding the names\n",
    "\n",
    "We will encode the names replacing the letters by numbers, each letter will be represented by the same number in all names. In that step we will also pad the name, that is, let them with the same size.\n",
    "\n",
    "### Encoding the ages\n",
    "\n",
    "The range between the lowest age and the greattest is too big, that is bad to the neural machine. So, we will scale the values to variate between 0 and 1, this is better to the machine predict a number. Later we can use the same object to apply the inverse transform in the predicted value."
   ]
  },
  {
   "cell_type": "code",
   "execution_count": 11,
   "metadata": {},
   "outputs": [],
   "source": [
    "def encode_name(name):\n",
    "    return one_hot(' '.join(list(name)), DICT_SIZE)"
   ]
  },
  {
   "cell_type": "code",
   "execution_count": 12,
   "metadata": {},
   "outputs": [
    {
     "data": {
      "text/plain": [
       "(478, 50)"
      ]
     },
     "execution_count": 12,
     "metadata": {},
     "output_type": "execute_result"
    }
   ],
   "source": [
    "encoded_names = []\n",
    "\n",
    "# encode names in one hot\n",
    "for index, name in enumerate(list(df_names)):\n",
    "    encoded_names.append(encode_name(name))\n",
    "\n",
    "# pad sequences\n",
    "encoded_names = pad_sequences(encoded_names, maxlen=MAX_NAME_SIZE, padding='post')\n",
    "encoded_names = np.array(encoded_names)\n",
    "encoded_names.shape"
   ]
  },
  {
   "cell_type": "code",
   "execution_count": 13,
   "metadata": {},
   "outputs": [],
   "source": [
    "# scaling the ages\n",
    "\n",
    "mm_scaler = MinMaxScaler()\n",
    "scaler = mm_scaler.fit([[age] for age in list_ages])"
   ]
  },
  {
   "cell_type": "code",
   "execution_count": 14,
   "metadata": {},
   "outputs": [
    {
     "data": {
      "text/plain": [
       "(478, 1)"
      ]
     },
     "execution_count": 14,
     "metadata": {},
     "output_type": "execute_result"
    }
   ],
   "source": [
    "ages_scaled = scaler.transform([[age] for age in list_ages])\n",
    "ages_scaled = np.array(ages_scaled)\n",
    "ages_scaled.shape"
   ]
  },
  {
   "cell_type": "markdown",
   "metadata": {},
   "source": [
    "# Neural Machine\n",
    "\n",
    "That if the fun part, make a model to get a name and predict which is the age of death ot that person"
   ]
  },
  {
   "cell_type": "code",
   "execution_count": 15,
   "metadata": {},
   "outputs": [
    {
     "name": "stdout",
     "output_type": "stream",
     "text": [
      "_________________________________________________________________\n",
      "Layer (type)                 Output Shape              Param #   \n",
      "=================================================================\n",
      "embedding_1 (Embedding)      (None, 50, 50)            1300      \n",
      "_________________________________________________________________\n",
      "flatten_1 (Flatten)          (None, 2500)              0         \n",
      "_________________________________________________________________\n",
      "dense_1 (Dense)              (None, 25)                62525     \n",
      "_________________________________________________________________\n",
      "dense_2 (Dense)              (None, 10)                260       \n",
      "_________________________________________________________________\n",
      "dense_3 (Dense)              (None, 1)                 11        \n",
      "=================================================================\n",
      "Total params: 64,096\n",
      "Trainable params: 64,096\n",
      "Non-trainable params: 0\n",
      "_________________________________________________________________\n"
     ]
    }
   ],
   "source": [
    "from keras.models import Sequential\n",
    "from keras.layers import Dense, Dropout, Embedding, Flatten\n",
    "\n",
    "model = Sequential()\n",
    "model.add(Embedding(DICT_SIZE, 50, input_length=MAX_NAME_SIZE))\n",
    "model.add(Flatten())\n",
    "model.add(Dense(units=25, activation='sigmoid'))\n",
    "model.add(Dense(units=10, activation='sigmoid'))\n",
    "model.add(Dense(units=1, activation='sigmoid'))\n",
    "\n",
    "model.summary()"
   ]
  },
  {
   "cell_type": "code",
   "execution_count": 17,
   "metadata": {},
   "outputs": [
    {
     "name": "stdout",
     "output_type": "stream",
     "text": [
      "Epoch 1/100\n",
      "478/478 [==============================] - 0s 408us/step - loss: 0.2637 - acc: 0.6590\n",
      "Epoch 2/100\n",
      "478/478 [==============================] - 0s 218us/step - loss: 0.2623 - acc: 0.6590\n",
      "Epoch 3/100\n",
      "478/478 [==============================] - 0s 163us/step - loss: 0.2614 - acc: 0.6590\n",
      "Epoch 4/100\n",
      "478/478 [==============================] - 0s 193us/step - loss: 0.2606 - acc: 0.6590\n",
      "Epoch 5/100\n",
      "478/478 [==============================] - 0s 154us/step - loss: 0.2601 - acc: 0.6590\n",
      "Epoch 6/100\n",
      "478/478 [==============================] - 0s 181us/step - loss: 0.2594 - acc: 0.6590\n",
      "Epoch 7/100\n",
      "478/478 [==============================] - 0s 159us/step - loss: 0.2588 - acc: 0.6590\n",
      "Epoch 8/100\n",
      "478/478 [==============================] - 0s 160us/step - loss: 0.2582 - acc: 0.6590\n",
      "Epoch 9/100\n",
      "478/478 [==============================] - 0s 170us/step - loss: 0.2576 - acc: 0.6590\n",
      "Epoch 10/100\n",
      "478/478 [==============================] - 0s 206us/step - loss: 0.2570 - acc: 0.6590\n",
      "Epoch 11/100\n",
      "478/478 [==============================] - 0s 163us/step - loss: 0.2564 - acc: 0.6590\n",
      "Epoch 12/100\n",
      "478/478 [==============================] - 0s 179us/step - loss: 0.2559 - acc: 0.6590\n",
      "Epoch 13/100\n",
      "478/478 [==============================] - 0s 203us/step - loss: 0.2553 - acc: 0.6590\n",
      "Epoch 14/100\n",
      "478/478 [==============================] - 0s 148us/step - loss: 0.2545 - acc: 0.6590\n",
      "Epoch 15/100\n",
      "478/478 [==============================] - 0s 167us/step - loss: 0.2538 - acc: 0.6590\n",
      "Epoch 16/100\n",
      "478/478 [==============================] - 0s 185us/step - loss: 0.2533 - acc: 0.6590\n",
      "Epoch 17/100\n",
      "478/478 [==============================] - 0s 187us/step - loss: 0.2527 - acc: 0.6590\n",
      "Epoch 18/100\n",
      "478/478 [==============================] - 0s 200us/step - loss: 0.2519 - acc: 0.6590\n",
      "Epoch 19/100\n",
      "478/478 [==============================] - 0s 176us/step - loss: 0.2510 - acc: 0.6590\n",
      "Epoch 20/100\n",
      "478/478 [==============================] - 0s 177us/step - loss: 0.2507 - acc: 0.6590\n",
      "Epoch 21/100\n",
      "478/478 [==============================] - 0s 179us/step - loss: 0.2495 - acc: 0.6590\n",
      "Epoch 22/100\n",
      "478/478 [==============================] - 0s 191us/step - loss: 0.2489 - acc: 0.6590\n",
      "Epoch 23/100\n",
      "478/478 [==============================] - 0s 194us/step - loss: 0.2480 - acc: 0.6590\n",
      "Epoch 24/100\n",
      "478/478 [==============================] - 0s 169us/step - loss: 0.2470 - acc: 0.6590\n",
      "Epoch 25/100\n",
      "478/478 [==============================] - 0s 178us/step - loss: 0.2464 - acc: 0.6590\n",
      "Epoch 26/100\n",
      "478/478 [==============================] - 0s 185us/step - loss: 0.2456 - acc: 0.6590\n",
      "Epoch 27/100\n",
      "478/478 [==============================] - 0s 218us/step - loss: 0.2451 - acc: 0.6590\n",
      "Epoch 28/100\n",
      "478/478 [==============================] - 0s 158us/step - loss: 0.2443 - acc: 0.6590\n",
      "Epoch 29/100\n",
      "478/478 [==============================] - 0s 189us/step - loss: 0.2440 - acc: 0.6590\n",
      "Epoch 30/100\n",
      "478/478 [==============================] - 0s 192us/step - loss: 0.2433 - acc: 0.6590\n",
      "Epoch 31/100\n",
      "478/478 [==============================] - 0s 177us/step - loss: 0.2424 - acc: 0.6590\n",
      "Epoch 32/100\n",
      "478/478 [==============================] - 0s 200us/step - loss: 0.2418 - acc: 0.6590\n",
      "Epoch 33/100\n",
      "478/478 [==============================] - 0s 194us/step - loss: 0.2409 - acc: 0.6590\n",
      "Epoch 34/100\n",
      "478/478 [==============================] - 0s 170us/step - loss: 0.2402 - acc: 0.6590\n",
      "Epoch 35/100\n",
      "478/478 [==============================] - 0s 159us/step - loss: 0.2397 - acc: 0.6590\n",
      "Epoch 36/100\n",
      "478/478 [==============================] - 0s 205us/step - loss: 0.2391 - acc: 0.6590\n",
      "Epoch 37/100\n",
      "478/478 [==============================] - 0s 200us/step - loss: 0.2384 - acc: 0.6590\n",
      "Epoch 38/100\n",
      "478/478 [==============================] - 0s 219us/step - loss: 0.2376 - acc: 0.6590\n",
      "Epoch 39/100\n",
      "478/478 [==============================] - 0s 202us/step - loss: 0.2369 - acc: 0.6590\n",
      "Epoch 40/100\n",
      "478/478 [==============================] - 0s 225us/step - loss: 0.2360 - acc: 0.6590\n",
      "Epoch 41/100\n",
      "478/478 [==============================] - 0s 190us/step - loss: 0.2352 - acc: 0.6590\n",
      "Epoch 42/100\n",
      "478/478 [==============================] - 0s 216us/step - loss: 0.2346 - acc: 0.6590\n",
      "Epoch 43/100\n",
      "478/478 [==============================] - 0s 200us/step - loss: 0.2340 - acc: 0.6590\n",
      "Epoch 44/100\n",
      "478/478 [==============================] - 0s 198us/step - loss: 0.2331 - acc: 0.6590\n",
      "Epoch 45/100\n",
      "478/478 [==============================] - 0s 189us/step - loss: 0.2325 - acc: 0.6590\n",
      "Epoch 46/100\n",
      "478/478 [==============================] - 0s 196us/step - loss: 0.2324 - acc: 0.6590\n",
      "Epoch 47/100\n",
      "478/478 [==============================] - 0s 191us/step - loss: 0.2314 - acc: 0.6590\n",
      "Epoch 48/100\n",
      "478/478 [==============================] - 0s 228us/step - loss: 0.2307 - acc: 0.6590\n",
      "Epoch 49/100\n",
      "478/478 [==============================] - 0s 186us/step - loss: 0.2299 - acc: 0.6590\n",
      "Epoch 50/100\n",
      "478/478 [==============================] - 0s 283us/step - loss: 0.2293 - acc: 0.6590\n",
      "Epoch 51/100\n",
      "478/478 [==============================] - 0s 318us/step - loss: 0.2286 - acc: 0.6590\n",
      "Epoch 52/100\n",
      "478/478 [==============================] - 0s 335us/step - loss: 0.2277 - acc: 0.6590\n",
      "Epoch 53/100\n",
      "478/478 [==============================] - 0s 253us/step - loss: 0.2272 - acc: 0.6590\n",
      "Epoch 54/100\n",
      "478/478 [==============================] - 0s 193us/step - loss: 0.2266 - acc: 0.6590\n",
      "Epoch 55/100\n",
      "478/478 [==============================] - 0s 198us/step - loss: 0.2259 - acc: 0.6590\n",
      "Epoch 56/100\n",
      "478/478 [==============================] - 0s 167us/step - loss: 0.2255 - acc: 0.6590\n",
      "Epoch 57/100\n",
      "478/478 [==============================] - 0s 200us/step - loss: 0.2249 - acc: 0.6590\n",
      "Epoch 58/100\n",
      "478/478 [==============================] - 0s 173us/step - loss: 0.2241 - acc: 0.6590\n",
      "Epoch 59/100\n",
      "478/478 [==============================] - 0s 215us/step - loss: 0.2237 - acc: 0.6590\n",
      "Epoch 60/100\n",
      "478/478 [==============================] - 0s 215us/step - loss: 0.2230 - acc: 0.6590\n",
      "Epoch 61/100\n",
      "478/478 [==============================] - 0s 285us/step - loss: 0.2225 - acc: 0.6590\n",
      "Epoch 62/100\n",
      "478/478 [==============================] - 0s 297us/step - loss: 0.2220 - acc: 0.6590\n",
      "Epoch 63/100\n",
      "478/478 [==============================] - 0s 336us/step - loss: 0.2215 - acc: 0.6590\n",
      "Epoch 64/100\n",
      "478/478 [==============================] - 0s 268us/step - loss: 0.2213 - acc: 0.6590\n",
      "Epoch 65/100\n",
      "478/478 [==============================] - 0s 226us/step - loss: 0.2209 - acc: 0.6590\n",
      "Epoch 66/100\n",
      "478/478 [==============================] - 0s 228us/step - loss: 0.2202 - acc: 0.6590\n",
      "Epoch 67/100\n",
      "478/478 [==============================] - 0s 227us/step - loss: 0.2198 - acc: 0.6590\n",
      "Epoch 68/100\n",
      "478/478 [==============================] - 0s 209us/step - loss: 0.2194 - acc: 0.6590\n",
      "Epoch 69/100\n",
      "478/478 [==============================] - 0s 186us/step - loss: 0.2190 - acc: 0.6590\n",
      "Epoch 70/100\n",
      "478/478 [==============================] - 0s 262us/step - loss: 0.2184 - acc: 0.6590\n",
      "Epoch 71/100\n",
      "478/478 [==============================] - 0s 246us/step - loss: 0.2181 - acc: 0.6590\n",
      "Epoch 72/100\n",
      "478/478 [==============================] - 0s 204us/step - loss: 0.2178 - acc: 0.6590\n",
      "Epoch 73/100\n",
      "478/478 [==============================] - 0s 278us/step - loss: 0.2174 - acc: 0.6590\n",
      "Epoch 74/100\n",
      "478/478 [==============================] - 0s 276us/step - loss: 0.2174 - acc: 0.6590\n",
      "Epoch 75/100\n",
      "478/478 [==============================] - 0s 185us/step - loss: 0.2177 - acc: 0.6590\n",
      "Epoch 76/100\n",
      "478/478 [==============================] - 0s 242us/step - loss: 0.2172 - acc: 0.6590\n",
      "Epoch 77/100\n",
      "478/478 [==============================] - 0s 234us/step - loss: 0.2163 - acc: 0.6590\n",
      "Epoch 78/100\n",
      "478/478 [==============================] - 0s 186us/step - loss: 0.2155 - acc: 0.6590\n",
      "Epoch 79/100\n",
      "478/478 [==============================] - 0s 193us/step - loss: 0.2150 - acc: 0.6590\n",
      "Epoch 80/100\n",
      "478/478 [==============================] - 0s 182us/step - loss: 0.2148 - acc: 0.6590\n",
      "Epoch 81/100\n",
      "478/478 [==============================] - 0s 247us/step - loss: 0.2144 - acc: 0.6590\n",
      "Epoch 82/100\n",
      "478/478 [==============================] - 0s 270us/step - loss: 0.2140 - acc: 0.6590\n",
      "Epoch 83/100\n"
     ]
    },
    {
     "name": "stdout",
     "output_type": "stream",
     "text": [
      "478/478 [==============================] - 0s 152us/step - loss: 0.2136 - acc: 0.6590\n",
      "Epoch 84/100\n",
      "478/478 [==============================] - 0s 157us/step - loss: 0.2134 - acc: 0.6590\n",
      "Epoch 85/100\n",
      "478/478 [==============================] - 0s 300us/step - loss: 0.2132 - acc: 0.6590\n",
      "Epoch 86/100\n",
      "478/478 [==============================] - 0s 228us/step - loss: 0.2129 - acc: 0.6590\n",
      "Epoch 87/100\n",
      "478/478 [==============================] - 0s 148us/step - loss: 0.2125 - acc: 0.6590\n",
      "Epoch 88/100\n",
      "478/478 [==============================] - 0s 224us/step - loss: 0.2124 - acc: 0.6590\n",
      "Epoch 89/100\n",
      "478/478 [==============================] - 0s 246us/step - loss: 0.2123 - acc: 0.6590\n",
      "Epoch 90/100\n",
      "478/478 [==============================] - 0s 196us/step - loss: 0.2120 - acc: 0.6590\n",
      "Epoch 91/100\n",
      "478/478 [==============================] - 0s 177us/step - loss: 0.2117 - acc: 0.6590\n",
      "Epoch 92/100\n",
      "478/478 [==============================] - 0s 191us/step - loss: 0.2117 - acc: 0.6590\n",
      "Epoch 93/100\n",
      "478/478 [==============================] - 0s 240us/step - loss: 0.2114 - acc: 0.6590\n",
      "Epoch 94/100\n",
      "478/478 [==============================] - 0s 271us/step - loss: 0.2110 - acc: 0.6590\n",
      "Epoch 95/100\n",
      "478/478 [==============================] - 0s 180us/step - loss: 0.2108 - acc: 0.6590\n",
      "Epoch 96/100\n",
      "478/478 [==============================] - 0s 213us/step - loss: 0.2107 - acc: 0.6590\n",
      "Epoch 97/100\n",
      "478/478 [==============================] - 0s 147us/step - loss: 0.2106 - acc: 0.6590\n",
      "Epoch 98/100\n",
      "478/478 [==============================] - 0s 284us/step - loss: 0.2104 - acc: 0.6590\n",
      "Epoch 99/100\n",
      "478/478 [==============================] - 0s 236us/step - loss: 0.2102 - acc: 0.6590\n",
      "Epoch 100/100\n",
      "478/478 [==============================] - 0s 203us/step - loss: 0.2101 - acc: 0.6590\n"
     ]
    }
   ],
   "source": [
    "model.compile(optimizer=\"adam\", loss='binary_crossentropy',  metrics=['accuracy'])\n",
    "\n",
    "history = model.fit(x=encoded_names, y=ages_scaled, epochs=100, verbose=1, shuffle=True)"
   ]
  },
  {
   "cell_type": "code",
   "execution_count": 34,
   "metadata": {},
   "outputs": [],
   "source": [
    "def convert_age(age):\n",
    "    if age < 0:\n",
    "        print('You still alive!')\n",
    "    else:\n",
    "        years = int(age)\n",
    "        months_float = 12 * (age - years)\n",
    "        months = int(months_float)\n",
    "        days_float = 30 * (months_float - months)\n",
    "        days = int(days_float)\n",
    "        \n",
    "        print('You lived for {} years, {} months and {} days'.format(years, months, days))"
   ]
  },
  {
   "cell_type": "code",
   "execution_count": 35,
   "metadata": {},
   "outputs": [
    {
     "data": {
      "text/plain": [
       "(1, 50)"
      ]
     },
     "execution_count": 35,
     "metadata": {},
     "output_type": "execute_result"
    }
   ],
   "source": [
    "my_name = encode_name(preprocess_name('Vinicius Matheus'))\n",
    "my_name = pad_sequences([my_name], maxlen=MAX_NAME_SIZE, padding='post')\n",
    "my_name.shape"
   ]
  },
  {
   "cell_type": "code",
   "execution_count": 38,
   "metadata": {},
   "outputs": [
    {
     "name": "stdout",
     "output_type": "stream",
     "text": [
      "You lived for 8 years, 11 months and 21 days\n"
     ]
    }
   ],
   "source": [
    "res = model.predict(np.array(my_name))[0][0]\n",
    "age_scaled = scaler.inverse_transform(res)[0][0]\n",
    "convert_age(age_scaled)"
   ]
  }
 ],
 "metadata": {
  "kernelspec": {
   "display_name": "got-age-of-death",
   "language": "python",
   "name": "got-age-of-death"
  },
  "language_info": {
   "codemirror_mode": {
    "name": "ipython",
    "version": 3
   },
   "file_extension": ".py",
   "mimetype": "text/x-python",
   "name": "python",
   "nbconvert_exporter": "python",
   "pygments_lexer": "ipython3",
   "version": "3.5.2"
  }
 },
 "nbformat": 4,
 "nbformat_minor": 2
}
