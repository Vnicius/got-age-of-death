{
 "cells": [
  {
   "cell_type": "code",
   "execution_count": 83,
   "metadata": {},
   "outputs": [],
   "source": [
    "import os\n",
    "import pandas as pd\n",
    "import requests as req\n",
    "import json\n",
    "import numpy as np\n",
    "import re\n",
    "from unidecode import unidecode\n",
    "from keras.preprocessing.text import one_hot\n",
    "from keras.preprocessing.sequence import pad_sequences\n",
    "from sklearn.preprocessing import MinMaxScaler\n",
    "\n",
    "MAX_NAME_SIZE = 50\n",
    "DICT_SIZE = 26"
   ]
  },
  {
   "cell_type": "code",
   "execution_count": 17,
   "metadata": {},
   "outputs": [],
   "source": [
    "DATA_URL = 'https://api.got.show/api/characters/'\n",
    "\n",
    "data = req.get(DATA_URL).content"
   ]
  },
  {
   "cell_type": "code",
   "execution_count": 21,
   "metadata": {},
   "outputs": [],
   "source": [
    "# OPTIONAL\n",
    "\n",
    "with open(os.path.join('data', 'characters.json'), 'r') as f:\n",
    "    data = f.read()"
   ]
  },
  {
   "cell_type": "code",
   "execution_count": 22,
   "metadata": {},
   "outputs": [
    {
     "data": {
      "text/plain": [
       "2028"
      ]
     },
     "execution_count": 22,
     "metadata": {},
     "output_type": "execute_result"
    }
   ],
   "source": [
    "df = pd.read_json(data, orient='records')\n",
    "len(df)"
   ]
  },
  {
   "cell_type": "code",
   "execution_count": 23,
   "metadata": {},
   "outputs": [],
   "source": [
    "df = df[['name', 'dateOfBirth', 'dateOfDeath']]"
   ]
  },
  {
   "cell_type": "code",
   "execution_count": 24,
   "metadata": {},
   "outputs": [
    {
     "data": {
      "text/plain": [
       "478"
      ]
     },
     "execution_count": 24,
     "metadata": {},
     "output_type": "execute_result"
    }
   ],
   "source": [
    "df_only_born = df.dropna(subset=['dateOfBirth'])\n",
    "len(df_only_born)"
   ]
  },
  {
   "cell_type": "code",
   "execution_count": 84,
   "metadata": {},
   "outputs": [],
   "source": [
    "def preprocess_name(name):\n",
    "    out_name = unidecode(name.lower())\n",
    "    out_name = re.sub(r'\\W', '', out_name)\n",
    "    \n",
    "    if len(out_name) > MAX_NAME_SIZE:\n",
    "        out_name = out_name[:MAX_NAME_SIZE]\n",
    "    \n",
    "    return out_name\n",
    "\n",
    "def preprocess_age(birth, death):\n",
    "    if np.isnan(death):\n",
    "        return -1\n",
    "    else:\n",
    "        return int(death - birth)"
   ]
  },
  {
   "cell_type": "code",
   "execution_count": 26,
   "metadata": {},
   "outputs": [],
   "source": [
    "df_names = df_only_born['name'].apply(preprocess_name)"
   ]
  },
  {
   "cell_type": "code",
   "execution_count": 31,
   "metadata": {},
   "outputs": [],
   "source": [
    "list_ages = []\n",
    "\n",
    "for birth, death in zip(list(df_only_born['dateOfBirth']), list(df_only_born['dateOfDeath'])):\n",
    "    list_ages.append(preprocess_age(birth, death))"
   ]
  },
  {
   "cell_type": "code",
   "execution_count": 52,
   "metadata": {},
   "outputs": [],
   "source": [
    "def encode_name(name):\n",
    "    return one_hot(' '.join(list(name)), DICT_SIZE)"
   ]
  },
  {
   "cell_type": "code",
   "execution_count": 56,
   "metadata": {},
   "outputs": [
    {
     "data": {
      "text/plain": [
       "(478, 50)"
      ]
     },
     "execution_count": 56,
     "metadata": {},
     "output_type": "execute_result"
    }
   ],
   "source": [
    "encoded_names = []\n",
    "\n",
    "# encode names in one hot\n",
    "for index, name in enumerate(list(df_names)):\n",
    "    encoded_names.append(encode_name(name))\n",
    "\n",
    "# pad sequences\n",
    "encoded_names = pad_sequences(encoded_names, maxlen=MAX_NAME_SIZE, padding='post')\n",
    "encoded_names = np.array(encoded_names)\n",
    "encoded_names.shape"
   ]
  },
  {
   "cell_type": "code",
   "execution_count": 57,
   "metadata": {},
   "outputs": [],
   "source": [
    "mm_scaler = MinMaxScaler()\n",
    "scaler = mm_scaler.fit([[age] for age in list_ages])"
   ]
  },
  {
   "cell_type": "code",
   "execution_count": 58,
   "metadata": {},
   "outputs": [
    {
     "data": {
      "text/plain": [
       "(478, 1)"
      ]
     },
     "execution_count": 58,
     "metadata": {},
     "output_type": "execute_result"
    }
   ],
   "source": [
    "ages_scaled = scaler.transform([[age] for age in list_ages])\n",
    "ages_scaled = np.array(ages_scaled)\n",
    "ages_scaled.shape"
   ]
  },
  {
   "cell_type": "markdown",
   "metadata": {},
   "source": [
    "# Machine Learning"
   ]
  },
  {
   "cell_type": "code",
   "execution_count": 146,
   "metadata": {},
   "outputs": [
    {
     "name": "stdout",
     "output_type": "stream",
     "text": [
      "_________________________________________________________________\n",
      "Layer (type)                 Output Shape              Param #   \n",
      "=================================================================\n",
      "embedding_7 (Embedding)      (None, 50, 50)            1300      \n",
      "_________________________________________________________________\n",
      "flatten_6 (Flatten)          (None, 2500)              0         \n",
      "_________________________________________________________________\n",
      "dense_19 (Dense)             (None, 25)                62525     \n",
      "_________________________________________________________________\n",
      "dense_20 (Dense)             (None, 10)                260       \n",
      "_________________________________________________________________\n",
      "dense_21 (Dense)             (None, 1)                 11        \n",
      "=================================================================\n",
      "Total params: 64,096\n",
      "Trainable params: 64,096\n",
      "Non-trainable params: 0\n",
      "_________________________________________________________________\n"
     ]
    }
   ],
   "source": [
    "from keras.models import Sequential\n",
    "from keras.layers import Dense, Dropout, Embedding, Flatten\n",
    "\n",
    "model = Sequential()\n",
    "model.add(Embedding(DICT_SIZE, 50, input_length=MAX_NAME_SIZE))\n",
    "model.add(Flatten())\n",
    "model.add(Dense(units=25, activation='sigmoid'))\n",
    "model.add(Dense(units=10, activation='sigmoid'))\n",
    "model.add(Dense(units=1, activation='sigmoid'))\n",
    "\n",
    "model.summary()"
   ]
  },
  {
   "cell_type": "code",
   "execution_count": 147,
   "metadata": {},
   "outputs": [
    {
     "name": "stdout",
     "output_type": "stream",
     "text": [
      "Epoch 1/200\n",
      "478/478 [==============================] - 0s 713us/step - loss: 1.6501 - acc: 0.0021\n",
      "Epoch 2/200\n",
      "478/478 [==============================] - 0s 193us/step - loss: 1.1579 - acc: 0.0021\n",
      "Epoch 3/200\n",
      "478/478 [==============================] - 0s 171us/step - loss: 0.9146 - acc: 0.0021\n",
      "Epoch 4/200\n",
      "478/478 [==============================] - 0s 200us/step - loss: 0.7963 - acc: 0.0021\n",
      "Epoch 5/200\n",
      "478/478 [==============================] - 0s 198us/step - loss: 0.7175 - acc: 0.0921\n",
      "Epoch 6/200\n",
      "478/478 [==============================] - 0s 203us/step - loss: 0.6598 - acc: 0.6569\n",
      "Epoch 7/200\n",
      "478/478 [==============================] - 0s 169us/step - loss: 0.6181 - acc: 0.6569\n",
      "Epoch 8/200\n",
      "478/478 [==============================] - 0s 183us/step - loss: 0.5864 - acc: 0.6569\n",
      "Epoch 9/200\n",
      "478/478 [==============================] - 0s 195us/step - loss: 0.5618 - acc: 0.6569\n",
      "Epoch 10/200\n",
      "478/478 [==============================] - 0s 146us/step - loss: 0.5419 - acc: 0.6569\n",
      "Epoch 11/200\n",
      "478/478 [==============================] - 0s 171us/step - loss: 0.5254 - acc: 0.6569\n",
      "Epoch 12/200\n",
      "478/478 [==============================] - 0s 170us/step - loss: 0.5111 - acc: 0.6569\n",
      "Epoch 13/200\n",
      "478/478 [==============================] - 0s 165us/step - loss: 0.4986 - acc: 0.6569\n",
      "Epoch 14/200\n",
      "478/478 [==============================] - 0s 203us/step - loss: 0.4873 - acc: 0.6569\n",
      "Epoch 15/200\n",
      "478/478 [==============================] - 0s 252us/step - loss: 0.4773 - acc: 0.6569\n",
      "Epoch 16/200\n",
      "478/478 [==============================] - 0s 270us/step - loss: 0.4680 - acc: 0.6569\n",
      "Epoch 17/200\n",
      "478/478 [==============================] - 0s 228us/step - loss: 0.4598 - acc: 0.6569\n",
      "Epoch 18/200\n",
      "478/478 [==============================] - 0s 158us/step - loss: 0.4525 - acc: 0.6569\n",
      "Epoch 19/200\n",
      "478/478 [==============================] - 0s 179us/step - loss: 0.4456 - acc: 0.6569\n",
      "Epoch 20/200\n",
      "478/478 [==============================] - 0s 177us/step - loss: 0.4393 - acc: 0.6569\n",
      "Epoch 21/200\n",
      "478/478 [==============================] - 0s 176us/step - loss: 0.4338 - acc: 0.6569\n",
      "Epoch 22/200\n",
      "478/478 [==============================] - 0s 165us/step - loss: 0.4287 - acc: 0.6569\n",
      "Epoch 23/200\n",
      "478/478 [==============================] - 0s 189us/step - loss: 0.4240 - acc: 0.6569\n",
      "Epoch 24/200\n",
      "478/478 [==============================] - 0s 145us/step - loss: 0.4196 - acc: 0.6569\n",
      "Epoch 25/200\n",
      "478/478 [==============================] - 0s 162us/step - loss: 0.4158 - acc: 0.6569\n",
      "Epoch 26/200\n",
      "478/478 [==============================] - 0s 189us/step - loss: 0.4121 - acc: 0.6569\n",
      "Epoch 27/200\n",
      "478/478 [==============================] - 0s 199us/step - loss: 0.4088 - acc: 0.6569\n",
      "Epoch 28/200\n",
      "478/478 [==============================] - 0s 291us/step - loss: 0.4059 - acc: 0.6569\n",
      "Epoch 29/200\n",
      "478/478 [==============================] - 0s 272us/step - loss: 0.4030 - acc: 0.6569\n",
      "Epoch 30/200\n",
      "478/478 [==============================] - 0s 203us/step - loss: 0.4005 - acc: 0.6569\n",
      "Epoch 31/200\n",
      "478/478 [==============================] - 0s 191us/step - loss: 0.3982 - acc: 0.6569\n",
      "Epoch 32/200\n",
      "478/478 [==============================] - 0s 238us/step - loss: 0.3959 - acc: 0.6569\n",
      "Epoch 33/200\n",
      "478/478 [==============================] - 0s 284us/step - loss: 0.3939 - acc: 0.6569\n",
      "Epoch 34/200\n",
      "478/478 [==============================] - 0s 185us/step - loss: 0.3921 - acc: 0.6569\n",
      "Epoch 35/200\n",
      "478/478 [==============================] - 0s 187us/step - loss: 0.3903 - acc: 0.6569\n",
      "Epoch 36/200\n",
      "478/478 [==============================] - 0s 298us/step - loss: 0.3887 - acc: 0.6569\n",
      "Epoch 37/200\n",
      "478/478 [==============================] - 0s 283us/step - loss: 0.3873 - acc: 0.6569\n",
      "Epoch 38/200\n",
      "478/478 [==============================] - 0s 176us/step - loss: 0.3859 - acc: 0.6569\n",
      "Epoch 39/200\n",
      "478/478 [==============================] - 0s 287us/step - loss: 0.3846 - acc: 0.6569\n",
      "Epoch 40/200\n",
      "478/478 [==============================] - 0s 278us/step - loss: 0.3833 - acc: 0.6569\n",
      "Epoch 41/200\n",
      "478/478 [==============================] - 0s 150us/step - loss: 0.3824 - acc: 0.6569\n",
      "Epoch 42/200\n",
      "478/478 [==============================] - 0s 136us/step - loss: 0.3812 - acc: 0.6569\n",
      "Epoch 43/200\n",
      "478/478 [==============================] - 0s 158us/step - loss: 0.3803 - acc: 0.6569\n",
      "Epoch 44/200\n",
      "478/478 [==============================] - 0s 189us/step - loss: 0.3794 - acc: 0.6569\n",
      "Epoch 45/200\n",
      "478/478 [==============================] - 0s 175us/step - loss: 0.3786 - acc: 0.6569\n",
      "Epoch 46/200\n",
      "478/478 [==============================] - 0s 181us/step - loss: 0.3778 - acc: 0.6569\n",
      "Epoch 47/200\n",
      "478/478 [==============================] - 0s 195us/step - loss: 0.3770 - acc: 0.6569\n",
      "Epoch 48/200\n",
      "478/478 [==============================] - 0s 192us/step - loss: 0.3764 - acc: 0.6569\n",
      "Epoch 49/200\n",
      "478/478 [==============================] - 0s 205us/step - loss: 0.3758 - acc: 0.6569\n",
      "Epoch 50/200\n",
      "478/478 [==============================] - 0s 196us/step - loss: 0.3752 - acc: 0.6569\n",
      "Epoch 51/200\n",
      "478/478 [==============================] - 0s 193us/step - loss: 0.3747 - acc: 0.6569\n",
      "Epoch 52/200\n",
      "478/478 [==============================] - 0s 185us/step - loss: 0.3742 - acc: 0.6569\n",
      "Epoch 53/200\n",
      "478/478 [==============================] - 0s 200us/step - loss: 0.3736 - acc: 0.6569\n",
      "Epoch 54/200\n",
      "478/478 [==============================] - 0s 161us/step - loss: 0.3733 - acc: 0.6569\n",
      "Epoch 55/200\n",
      "478/478 [==============================] - 0s 187us/step - loss: 0.3728 - acc: 0.6569\n",
      "Epoch 56/200\n",
      "478/478 [==============================] - 0s 180us/step - loss: 0.3725 - acc: 0.6569\n",
      "Epoch 57/200\n",
      "478/478 [==============================] - 0s 203us/step - loss: 0.3721 - acc: 0.6569\n",
      "Epoch 58/200\n",
      "478/478 [==============================] - 0s 169us/step - loss: 0.3718 - acc: 0.6569\n",
      "Epoch 59/200\n",
      "478/478 [==============================] - 0s 191us/step - loss: 0.3715 - acc: 0.6569\n",
      "Epoch 60/200\n",
      "478/478 [==============================] - 0s 198us/step - loss: 0.3712 - acc: 0.6569\n",
      "Epoch 61/200\n",
      "478/478 [==============================] - 0s 201us/step - loss: 0.3710 - acc: 0.6569\n",
      "Epoch 62/200\n",
      "478/478 [==============================] - 0s 173us/step - loss: 0.3707 - acc: 0.6569\n",
      "Epoch 63/200\n",
      "478/478 [==============================] - 0s 203us/step - loss: 0.3705 - acc: 0.6569\n",
      "Epoch 64/200\n",
      "478/478 [==============================] - 0s 186us/step - loss: 0.3703 - acc: 0.6569\n",
      "Epoch 65/200\n",
      "478/478 [==============================] - 0s 172us/step - loss: 0.3701 - acc: 0.6569\n",
      "Epoch 66/200\n",
      "478/478 [==============================] - 0s 206us/step - loss: 0.3699 - acc: 0.6569\n",
      "Epoch 67/200\n",
      "478/478 [==============================] - 0s 134us/step - loss: 0.3698 - acc: 0.6569\n",
      "Epoch 68/200\n",
      "478/478 [==============================] - 0s 176us/step - loss: 0.3696 - acc: 0.6569\n",
      "Epoch 69/200\n",
      "478/478 [==============================] - 0s 141us/step - loss: 0.3695 - acc: 0.6569\n",
      "Epoch 70/200\n",
      "478/478 [==============================] - 0s 163us/step - loss: 0.3694 - acc: 0.6569\n",
      "Epoch 71/200\n",
      "478/478 [==============================] - 0s 194us/step - loss: 0.3692 - acc: 0.6569\n",
      "Epoch 72/200\n",
      "478/478 [==============================] - 0s 208us/step - loss: 0.3691 - acc: 0.6569\n",
      "Epoch 73/200\n",
      "478/478 [==============================] - 0s 193us/step - loss: 0.3690 - acc: 0.6569\n",
      "Epoch 74/200\n",
      "478/478 [==============================] - 0s 212us/step - loss: 0.3689 - acc: 0.6569\n",
      "Epoch 75/200\n",
      "478/478 [==============================] - 0s 198us/step - loss: 0.3688 - acc: 0.6569\n",
      "Epoch 76/200\n",
      "478/478 [==============================] - 0s 203us/step - loss: 0.3688 - acc: 0.6569\n",
      "Epoch 77/200\n",
      "478/478 [==============================] - 0s 182us/step - loss: 0.3687 - acc: 0.6569\n",
      "Epoch 78/200\n",
      "478/478 [==============================] - 0s 166us/step - loss: 0.3686 - acc: 0.6569\n",
      "Epoch 79/200\n",
      "478/478 [==============================] - 0s 169us/step - loss: 0.3685 - acc: 0.6569\n",
      "Epoch 80/200\n",
      "478/478 [==============================] - 0s 197us/step - loss: 0.3685 - acc: 0.6569\n",
      "Epoch 81/200\n",
      "478/478 [==============================] - 0s 187us/step - loss: 0.3684 - acc: 0.6569\n",
      "Epoch 82/200\n",
      "478/478 [==============================] - 0s 182us/step - loss: 0.3684 - acc: 0.6569\n",
      "Epoch 83/200\n"
     ]
    },
    {
     "name": "stdout",
     "output_type": "stream",
     "text": [
      "478/478 [==============================] - 0s 147us/step - loss: 0.3683 - acc: 0.6569\n",
      "Epoch 84/200\n",
      "478/478 [==============================] - 0s 151us/step - loss: 0.3683 - acc: 0.6569\n",
      "Epoch 85/200\n",
      "478/478 [==============================] - 0s 149us/step - loss: 0.3682 - acc: 0.6569\n",
      "Epoch 86/200\n",
      "478/478 [==============================] - 0s 151us/step - loss: 0.3682 - acc: 0.6569\n",
      "Epoch 87/200\n",
      "478/478 [==============================] - 0s 179us/step - loss: 0.3682 - acc: 0.6569\n",
      "Epoch 88/200\n",
      "478/478 [==============================] - 0s 131us/step - loss: 0.3682 - acc: 0.6569\n",
      "Epoch 89/200\n",
      "478/478 [==============================] - 0s 138us/step - loss: 0.3681 - acc: 0.6569\n",
      "Epoch 90/200\n",
      "478/478 [==============================] - 0s 163us/step - loss: 0.3681 - acc: 0.6569\n",
      "Epoch 91/200\n",
      "478/478 [==============================] - 0s 150us/step - loss: 0.3681 - acc: 0.6569\n",
      "Epoch 92/200\n",
      "478/478 [==============================] - 0s 176us/step - loss: 0.3680 - acc: 0.6569\n",
      "Epoch 93/200\n",
      "478/478 [==============================] - 0s 150us/step - loss: 0.3680 - acc: 0.6569\n",
      "Epoch 94/200\n",
      "478/478 [==============================] - 0s 152us/step - loss: 0.3680 - acc: 0.6569\n",
      "Epoch 95/200\n",
      "478/478 [==============================] - 0s 154us/step - loss: 0.3680 - acc: 0.6569\n",
      "Epoch 96/200\n",
      "478/478 [==============================] - 0s 172us/step - loss: 0.3680 - acc: 0.6569\n",
      "Epoch 97/200\n",
      "478/478 [==============================] - 0s 146us/step - loss: 0.3680 - acc: 0.6569\n",
      "Epoch 98/200\n",
      "478/478 [==============================] - 0s 155us/step - loss: 0.3680 - acc: 0.6569\n",
      "Epoch 99/200\n",
      "478/478 [==============================] - 0s 158us/step - loss: 0.3680 - acc: 0.6569\n",
      "Epoch 100/200\n",
      "478/478 [==============================] - 0s 166us/step - loss: 0.3679 - acc: 0.6569\n",
      "Epoch 101/200\n",
      "478/478 [==============================] - 0s 150us/step - loss: 0.3679 - acc: 0.6569\n",
      "Epoch 102/200\n",
      "478/478 [==============================] - 0s 157us/step - loss: 0.3679 - acc: 0.6569\n",
      "Epoch 103/200\n",
      "478/478 [==============================] - 0s 153us/step - loss: 0.3679 - acc: 0.6569\n",
      "Epoch 104/200\n",
      "478/478 [==============================] - 0s 155us/step - loss: 0.3679 - acc: 0.6569\n",
      "Epoch 105/200\n",
      "478/478 [==============================] - 0s 167us/step - loss: 0.3679 - acc: 0.6569\n",
      "Epoch 106/200\n",
      "478/478 [==============================] - 0s 154us/step - loss: 0.3679 - acc: 0.6569\n",
      "Epoch 107/200\n",
      "478/478 [==============================] - 0s 165us/step - loss: 0.3679 - acc: 0.6569\n",
      "Epoch 108/200\n",
      "478/478 [==============================] - 0s 150us/step - loss: 0.3679 - acc: 0.6569\n",
      "Epoch 109/200\n",
      "478/478 [==============================] - 0s 169us/step - loss: 0.3679 - acc: 0.6569\n",
      "Epoch 110/200\n",
      "478/478 [==============================] - 0s 151us/step - loss: 0.3679 - acc: 0.6569\n",
      "Epoch 111/200\n",
      "478/478 [==============================] - 0s 151us/step - loss: 0.3679 - acc: 0.6569\n",
      "Epoch 112/200\n",
      "478/478 [==============================] - 0s 158us/step - loss: 0.3679 - acc: 0.6569\n",
      "Epoch 113/200\n",
      "478/478 [==============================] - 0s 167us/step - loss: 0.3679 - acc: 0.6569\n",
      "Epoch 114/200\n",
      "478/478 [==============================] - 0s 166us/step - loss: 0.3679 - acc: 0.6569\n",
      "Epoch 115/200\n",
      "478/478 [==============================] - 0s 166us/step - loss: 0.3679 - acc: 0.6569\n",
      "Epoch 116/200\n",
      "478/478 [==============================] - 0s 156us/step - loss: 0.3679 - acc: 0.6569\n",
      "Epoch 117/200\n",
      "478/478 [==============================] - 0s 171us/step - loss: 0.3679 - acc: 0.6569\n",
      "Epoch 118/200\n",
      "478/478 [==============================] - 0s 166us/step - loss: 0.3679 - acc: 0.6569\n",
      "Epoch 119/200\n",
      "478/478 [==============================] - 0s 159us/step - loss: 0.3679 - acc: 0.6569\n",
      "Epoch 120/200\n",
      "478/478 [==============================] - 0s 173us/step - loss: 0.3679 - acc: 0.6569\n",
      "Epoch 121/200\n",
      "478/478 [==============================] - 0s 165us/step - loss: 0.3679 - acc: 0.6569\n",
      "Epoch 122/200\n",
      "478/478 [==============================] - 0s 160us/step - loss: 0.3679 - acc: 0.6569\n",
      "Epoch 123/200\n",
      "478/478 [==============================] - 0s 168us/step - loss: 0.3679 - acc: 0.6569\n",
      "Epoch 124/200\n",
      "478/478 [==============================] - 0s 164us/step - loss: 0.3679 - acc: 0.6569\n",
      "Epoch 125/200\n",
      "478/478 [==============================] - 0s 153us/step - loss: 0.3679 - acc: 0.6569\n",
      "Epoch 126/200\n",
      "478/478 [==============================] - 0s 146us/step - loss: 0.3679 - acc: 0.6569\n",
      "Epoch 127/200\n",
      "478/478 [==============================] - 0s 165us/step - loss: 0.3679 - acc: 0.6569\n",
      "Epoch 128/200\n",
      "478/478 [==============================] - 0s 177us/step - loss: 0.3679 - acc: 0.6569\n",
      "Epoch 129/200\n",
      "478/478 [==============================] - 0s 128us/step - loss: 0.3679 - acc: 0.6569\n",
      "Epoch 130/200\n",
      "478/478 [==============================] - 0s 137us/step - loss: 0.3679 - acc: 0.6569\n",
      "Epoch 131/200\n",
      "478/478 [==============================] - 0s 159us/step - loss: 0.3679 - acc: 0.6569\n",
      "Epoch 132/200\n",
      "478/478 [==============================] - 0s 160us/step - loss: 0.3679 - acc: 0.6569\n",
      "Epoch 133/200\n",
      "478/478 [==============================] - 0s 179us/step - loss: 0.3679 - acc: 0.6569\n",
      "Epoch 134/200\n",
      "478/478 [==============================] - 0s 130us/step - loss: 0.3679 - acc: 0.6569\n",
      "Epoch 135/200\n",
      "478/478 [==============================] - 0s 153us/step - loss: 0.3679 - acc: 0.6569\n",
      "Epoch 136/200\n",
      "478/478 [==============================] - 0s 159us/step - loss: 0.3679 - acc: 0.6569\n",
      "Epoch 137/200\n",
      "478/478 [==============================] - 0s 161us/step - loss: 0.3679 - acc: 0.6569\n",
      "Epoch 138/200\n",
      "478/478 [==============================] - 0s 144us/step - loss: 0.3679 - acc: 0.6569\n",
      "Epoch 139/200\n",
      "478/478 [==============================] - 0s 189us/step - loss: 0.3679 - acc: 0.6569\n",
      "Epoch 140/200\n",
      "478/478 [==============================] - 0s 158us/step - loss: 0.3679 - acc: 0.6569\n",
      "Epoch 141/200\n",
      "478/478 [==============================] - 0s 153us/step - loss: 0.3679 - acc: 0.6569\n",
      "Epoch 142/200\n",
      "478/478 [==============================] - 0s 158us/step - loss: 0.3679 - acc: 0.6569\n",
      "Epoch 143/200\n",
      "478/478 [==============================] - 0s 161us/step - loss: 0.3679 - acc: 0.6569\n",
      "Epoch 144/200\n",
      "478/478 [==============================] - 0s 158us/step - loss: 0.3679 - acc: 0.6569\n",
      "Epoch 145/200\n",
      "478/478 [==============================] - 0s 169us/step - loss: 0.3679 - acc: 0.6569\n",
      "Epoch 146/200\n",
      "478/478 [==============================] - 0s 138us/step - loss: 0.3679 - acc: 0.6569\n",
      "Epoch 147/200\n",
      "478/478 [==============================] - 0s 156us/step - loss: 0.3679 - acc: 0.6569\n",
      "Epoch 148/200\n",
      "478/478 [==============================] - 0s 150us/step - loss: 0.3679 - acc: 0.6569\n",
      "Epoch 149/200\n",
      "478/478 [==============================] - 0s 164us/step - loss: 0.3679 - acc: 0.6569\n",
      "Epoch 150/200\n",
      "478/478 [==============================] - 0s 177us/step - loss: 0.3679 - acc: 0.6569\n",
      "Epoch 151/200\n",
      "478/478 [==============================] - 0s 137us/step - loss: 0.3679 - acc: 0.6569\n",
      "Epoch 152/200\n",
      "478/478 [==============================] - 0s 151us/step - loss: 0.3679 - acc: 0.6569\n",
      "Epoch 153/200\n",
      "478/478 [==============================] - 0s 150us/step - loss: 0.3679 - acc: 0.6569\n",
      "Epoch 154/200\n",
      "478/478 [==============================] - 0s 157us/step - loss: 0.3679 - acc: 0.6569\n",
      "Epoch 155/200\n",
      "478/478 [==============================] - 0s 147us/step - loss: 0.3679 - acc: 0.6569\n",
      "Epoch 156/200\n",
      "478/478 [==============================] - 0s 172us/step - loss: 0.3679 - acc: 0.6569\n",
      "Epoch 157/200\n",
      "478/478 [==============================] - 0s 178us/step - loss: 0.3679 - acc: 0.6569\n",
      "Epoch 158/200\n",
      "478/478 [==============================] - 0s 161us/step - loss: 0.3679 - acc: 0.6569\n",
      "Epoch 159/200\n",
      "478/478 [==============================] - 0s 182us/step - loss: 0.3679 - acc: 0.6569\n",
      "Epoch 160/200\n",
      "478/478 [==============================] - 0s 161us/step - loss: 0.3679 - acc: 0.6569\n",
      "Epoch 161/200\n",
      "478/478 [==============================] - 0s 160us/step - loss: 0.3679 - acc: 0.6569\n",
      "Epoch 162/200\n",
      "478/478 [==============================] - 0s 155us/step - loss: 0.3679 - acc: 0.6569\n",
      "Epoch 163/200\n",
      "478/478 [==============================] - 0s 167us/step - loss: 0.3679 - acc: 0.6569\n",
      "Epoch 164/200\n",
      "478/478 [==============================] - 0s 150us/step - loss: 0.3679 - acc: 0.6569\n",
      "Epoch 165/200\n"
     ]
    },
    {
     "name": "stdout",
     "output_type": "stream",
     "text": [
      "478/478 [==============================] - 0s 150us/step - loss: 0.3679 - acc: 0.6569\n",
      "Epoch 166/200\n",
      "478/478 [==============================] - 0s 154us/step - loss: 0.3679 - acc: 0.6569\n",
      "Epoch 167/200\n",
      "478/478 [==============================] - 0s 168us/step - loss: 0.3679 - acc: 0.6569\n",
      "Epoch 168/200\n",
      "478/478 [==============================] - 0s 141us/step - loss: 0.3679 - acc: 0.6569\n",
      "Epoch 169/200\n",
      "478/478 [==============================] - 0s 152us/step - loss: 0.3679 - acc: 0.6569\n",
      "Epoch 170/200\n",
      "478/478 [==============================] - 0s 134us/step - loss: 0.3679 - acc: 0.6569\n",
      "Epoch 171/200\n",
      "478/478 [==============================] - 0s 174us/step - loss: 0.3678 - acc: 0.6569\n",
      "Epoch 172/200\n",
      "478/478 [==============================] - 0s 150us/step - loss: 0.3678 - acc: 0.6569\n",
      "Epoch 173/200\n",
      "478/478 [==============================] - 0s 163us/step - loss: 0.3677 - acc: 0.6569\n",
      "Epoch 174/200\n",
      "478/478 [==============================] - 0s 161us/step - loss: 0.3678 - acc: 0.6569\n",
      "Epoch 175/200\n",
      "478/478 [==============================] - 0s 138us/step - loss: 0.3677 - acc: 0.6569\n",
      "Epoch 176/200\n",
      "478/478 [==============================] - 0s 170us/step - loss: 0.3677 - acc: 0.6569\n",
      "Epoch 177/200\n",
      "478/478 [==============================] - 0s 158us/step - loss: 0.3676 - acc: 0.6569\n",
      "Epoch 178/200\n",
      "478/478 [==============================] - 0s 165us/step - loss: 0.3676 - acc: 0.6569\n",
      "Epoch 179/200\n",
      "478/478 [==============================] - 0s 169us/step - loss: 0.3676 - acc: 0.6569\n",
      "Epoch 180/200\n",
      "478/478 [==============================] - 0s 147us/step - loss: 0.3676 - acc: 0.6569\n",
      "Epoch 181/200\n",
      "478/478 [==============================] - 0s 155us/step - loss: 0.3676 - acc: 0.6569\n",
      "Epoch 182/200\n",
      "478/478 [==============================] - 0s 142us/step - loss: 0.3675 - acc: 0.6569\n",
      "Epoch 183/200\n",
      "478/478 [==============================] - 0s 163us/step - loss: 0.3675 - acc: 0.6569\n",
      "Epoch 184/200\n",
      "478/478 [==============================] - 0s 168us/step - loss: 0.3675 - acc: 0.6569\n",
      "Epoch 185/200\n",
      "478/478 [==============================] - 0s 151us/step - loss: 0.3675 - acc: 0.6569\n",
      "Epoch 186/200\n",
      "478/478 [==============================] - 0s 172us/step - loss: 0.3675 - acc: 0.6569\n",
      "Epoch 187/200\n",
      "478/478 [==============================] - 0s 147us/step - loss: 0.3675 - acc: 0.6569\n",
      "Epoch 188/200\n",
      "478/478 [==============================] - 0s 153us/step - loss: 0.3675 - acc: 0.6569\n",
      "Epoch 189/200\n",
      "478/478 [==============================] - 0s 173us/step - loss: 0.3674 - acc: 0.6569\n",
      "Epoch 190/200\n",
      "478/478 [==============================] - 0s 125us/step - loss: 0.3674 - acc: 0.6569\n",
      "Epoch 191/200\n",
      "478/478 [==============================] - 0s 170us/step - loss: 0.3674 - acc: 0.6569\n",
      "Epoch 192/200\n",
      "478/478 [==============================] - 0s 170us/step - loss: 0.3674 - acc: 0.6569\n",
      "Epoch 193/200\n",
      "478/478 [==============================] - 0s 156us/step - loss: 0.3674 - acc: 0.6569\n",
      "Epoch 194/200\n",
      "478/478 [==============================] - 0s 178us/step - loss: 0.3674 - acc: 0.6569\n",
      "Epoch 195/200\n",
      "478/478 [==============================] - 0s 130us/step - loss: 0.3673 - acc: 0.6569\n",
      "Epoch 196/200\n",
      "478/478 [==============================] - 0s 145us/step - loss: 0.3673 - acc: 0.6569\n",
      "Epoch 197/200\n",
      "478/478 [==============================] - 0s 185us/step - loss: 0.3672 - acc: 0.6569\n",
      "Epoch 198/200\n",
      "478/478 [==============================] - 0s 162us/step - loss: 0.3672 - acc: 0.6569\n",
      "Epoch 199/200\n",
      "478/478 [==============================] - 0s 160us/step - loss: 0.3672 - acc: 0.6569\n",
      "Epoch 200/200\n",
      "478/478 [==============================] - 0s 193us/step - loss: 0.3671 - acc: 0.6569\n"
     ]
    }
   ],
   "source": [
    "model.compile(optimizer=\"adam\", loss='binary_crossentropy',  metrics=['accuracy'])\n",
    "\n",
    "history = model.fit(x=encoded_names, y=ages_scaled, epochs=200, verbose=1, shuffle=True)\n",
    "\n",
    "#score = model.evaluate(x_test, y_test_oh, verbose=0)\n",
    "\n",
    "#print('Test loss:', score[0])\n",
    "#print('Test accuracy:', score[1])"
   ]
  },
  {
   "cell_type": "code",
   "execution_count": 148,
   "metadata": {},
   "outputs": [
    {
     "data": {
      "text/plain": [
       "(1, 50)"
      ]
     },
     "execution_count": 148,
     "metadata": {},
     "output_type": "execute_result"
    }
   ],
   "source": [
    "my_name = encode_name(preprocess_name('Vinicius Matheus Veríssimo da Silva'))\n",
    "my_name = pad_sequences([my_name], maxlen=MAX_NAME_SIZE, padding='post')\n",
    "my_name.shape"
   ]
  },
  {
   "cell_type": "code",
   "execution_count": 149,
   "metadata": {},
   "outputs": [
    {
     "name": "stdout",
     "output_type": "stream",
     "text": [
      "0.120866\n"
     ]
    },
    {
     "data": {
      "text/plain": [
       "array([[ 11.44918156]], dtype=float32)"
      ]
     },
     "execution_count": 149,
     "metadata": {},
     "output_type": "execute_result"
    }
   ],
   "source": [
    "res = model.predict(np.array(my_name))\n",
    "print(res[0][0])\n",
    "scaler.inverse_transform(res[0][0])"
   ]
  }
 ],
 "metadata": {
  "kernelspec": {
   "display_name": "got-age-of-death",
   "language": "python",
   "name": "got-age-of-death"
  },
  "language_info": {
   "codemirror_mode": {
    "name": "ipython",
    "version": 3
   },
   "file_extension": ".py",
   "mimetype": "text/x-python",
   "name": "python",
   "nbconvert_exporter": "python",
   "pygments_lexer": "ipython3",
   "version": "3.5.2"
  }
 },
 "nbformat": 4,
 "nbformat_minor": 2
}
